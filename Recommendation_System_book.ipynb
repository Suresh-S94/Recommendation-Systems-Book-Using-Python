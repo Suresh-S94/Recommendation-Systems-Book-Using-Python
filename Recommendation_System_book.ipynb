{
 "cells": [
  {
   "cell_type": "code",
   "execution_count": 1,
   "metadata": {},
   "outputs": [],
   "source": [
    "import pandas as pd\n",
    "import numpy as np\n",
    "import matplotlib.pyplot as plt"
   ]
  },
  {
   "cell_type": "code",
   "execution_count": 13,
   "metadata": {},
   "outputs": [
    {
     "data": {
      "text/html": [
       "<div>\n",
       "<style scoped>\n",
       "    .dataframe tbody tr th:only-of-type {\n",
       "        vertical-align: middle;\n",
       "    }\n",
       "\n",
       "    .dataframe tbody tr th {\n",
       "        vertical-align: top;\n",
       "    }\n",
       "\n",
       "    .dataframe thead th {\n",
       "        text-align: right;\n",
       "    }\n",
       "</style>\n",
       "<table border=\"1\" class=\"dataframe\">\n",
       "  <thead>\n",
       "    <tr style=\"text-align: right;\">\n",
       "      <th></th>\n",
       "      <th>Unnamed: 0</th>\n",
       "      <th>User.ID</th>\n",
       "      <th>Book.Title</th>\n",
       "      <th>Book.Rating</th>\n",
       "    </tr>\n",
       "  </thead>\n",
       "  <tbody>\n",
       "    <tr>\n",
       "      <th>0</th>\n",
       "      <td>1</td>\n",
       "      <td>276726</td>\n",
       "      <td>Classical Mythology</td>\n",
       "      <td>5</td>\n",
       "    </tr>\n",
       "    <tr>\n",
       "      <th>1</th>\n",
       "      <td>2</td>\n",
       "      <td>276729</td>\n",
       "      <td>Clara Callan</td>\n",
       "      <td>3</td>\n",
       "    </tr>\n",
       "    <tr>\n",
       "      <th>2</th>\n",
       "      <td>3</td>\n",
       "      <td>276729</td>\n",
       "      <td>Decision in Normandy</td>\n",
       "      <td>6</td>\n",
       "    </tr>\n",
       "    <tr>\n",
       "      <th>3</th>\n",
       "      <td>4</td>\n",
       "      <td>276736</td>\n",
       "      <td>Flu: The Story of the Great Influenza Pandemic...</td>\n",
       "      <td>8</td>\n",
       "    </tr>\n",
       "    <tr>\n",
       "      <th>4</th>\n",
       "      <td>5</td>\n",
       "      <td>276737</td>\n",
       "      <td>The Mummies of Urumchi</td>\n",
       "      <td>6</td>\n",
       "    </tr>\n",
       "  </tbody>\n",
       "</table>\n",
       "</div>"
      ],
      "text/plain": [
       "   Unnamed: 0  User.ID                                         Book.Title  \\\n",
       "0           1   276726                                Classical Mythology   \n",
       "1           2   276729                                       Clara Callan   \n",
       "2           3   276729                               Decision in Normandy   \n",
       "3           4   276736  Flu: The Story of the Great Influenza Pandemic...   \n",
       "4           5   276737                             The Mummies of Urumchi   \n",
       "\n",
       "   Book.Rating  \n",
       "0            5  \n",
       "1            3  \n",
       "2            6  \n",
       "3            8  \n",
       "4            6  "
      ]
     },
     "execution_count": 13,
     "metadata": {},
     "output_type": "execute_result"
    }
   ],
   "source": [
    "books = pd.read_csv(\"D:\\\\Data Science-ExcelR\\\\Assignments\\\\Recommendation system\\\\book.csv\",sep=',',encoding= 'unicode_escape')\n",
    "books.head()"
   ]
  },
  {
   "cell_type": "code",
   "execution_count": 25,
   "metadata": {},
   "outputs": [],
   "source": [
    "books= books.rename(columns={ books.columns[0]: \"Details\"})\n",
    "books= books.rename(columns={ books.columns[2]: \"Book_Title\"})"
   ]
  },
  {
   "cell_type": "code",
   "execution_count": 15,
   "metadata": {},
   "outputs": [
    {
     "data": {
      "text/html": [
       "<div>\n",
       "<style scoped>\n",
       "    .dataframe tbody tr th:only-of-type {\n",
       "        vertical-align: middle;\n",
       "    }\n",
       "\n",
       "    .dataframe tbody tr th {\n",
       "        vertical-align: top;\n",
       "    }\n",
       "\n",
       "    .dataframe thead th {\n",
       "        text-align: right;\n",
       "    }\n",
       "</style>\n",
       "<table border=\"1\" class=\"dataframe\">\n",
       "  <thead>\n",
       "    <tr style=\"text-align: right;\">\n",
       "      <th></th>\n",
       "      <th>Details</th>\n",
       "      <th>User.ID</th>\n",
       "      <th>Book.Title</th>\n",
       "      <th>Book.Rating</th>\n",
       "    </tr>\n",
       "  </thead>\n",
       "  <tbody>\n",
       "    <tr>\n",
       "      <th>0</th>\n",
       "      <td>1</td>\n",
       "      <td>276726</td>\n",
       "      <td>Classical Mythology</td>\n",
       "      <td>5</td>\n",
       "    </tr>\n",
       "    <tr>\n",
       "      <th>1</th>\n",
       "      <td>2</td>\n",
       "      <td>276729</td>\n",
       "      <td>Clara Callan</td>\n",
       "      <td>3</td>\n",
       "    </tr>\n",
       "    <tr>\n",
       "      <th>2</th>\n",
       "      <td>3</td>\n",
       "      <td>276729</td>\n",
       "      <td>Decision in Normandy</td>\n",
       "      <td>6</td>\n",
       "    </tr>\n",
       "    <tr>\n",
       "      <th>3</th>\n",
       "      <td>4</td>\n",
       "      <td>276736</td>\n",
       "      <td>Flu: The Story of the Great Influenza Pandemic...</td>\n",
       "      <td>8</td>\n",
       "    </tr>\n",
       "    <tr>\n",
       "      <th>4</th>\n",
       "      <td>5</td>\n",
       "      <td>276737</td>\n",
       "      <td>The Mummies of Urumchi</td>\n",
       "      <td>6</td>\n",
       "    </tr>\n",
       "    <tr>\n",
       "      <th>...</th>\n",
       "      <td>...</td>\n",
       "      <td>...</td>\n",
       "      <td>...</td>\n",
       "      <td>...</td>\n",
       "    </tr>\n",
       "    <tr>\n",
       "      <th>9995</th>\n",
       "      <td>9996</td>\n",
       "      <td>162121</td>\n",
       "      <td>American Fried: Adventures of a Happy Eater.</td>\n",
       "      <td>7</td>\n",
       "    </tr>\n",
       "    <tr>\n",
       "      <th>9996</th>\n",
       "      <td>9997</td>\n",
       "      <td>162121</td>\n",
       "      <td>Cannibal In Manhattan</td>\n",
       "      <td>9</td>\n",
       "    </tr>\n",
       "    <tr>\n",
       "      <th>9997</th>\n",
       "      <td>9998</td>\n",
       "      <td>162121</td>\n",
       "      <td>How to Flirt: A Practical Guide</td>\n",
       "      <td>7</td>\n",
       "    </tr>\n",
       "    <tr>\n",
       "      <th>9998</th>\n",
       "      <td>9999</td>\n",
       "      <td>162121</td>\n",
       "      <td>Twilight</td>\n",
       "      <td>8</td>\n",
       "    </tr>\n",
       "    <tr>\n",
       "      <th>9999</th>\n",
       "      <td>10000</td>\n",
       "      <td>162129</td>\n",
       "      <td>Kids Say the Darndest Things</td>\n",
       "      <td>6</td>\n",
       "    </tr>\n",
       "  </tbody>\n",
       "</table>\n",
       "<p>10000 rows × 4 columns</p>\n",
       "</div>"
      ],
      "text/plain": [
       "      Details  User.ID                                         Book.Title  \\\n",
       "0           1   276726                                Classical Mythology   \n",
       "1           2   276729                                       Clara Callan   \n",
       "2           3   276729                               Decision in Normandy   \n",
       "3           4   276736  Flu: The Story of the Great Influenza Pandemic...   \n",
       "4           5   276737                             The Mummies of Urumchi   \n",
       "...       ...      ...                                                ...   \n",
       "9995     9996   162121       American Fried: Adventures of a Happy Eater.   \n",
       "9996     9997   162121                              Cannibal In Manhattan   \n",
       "9997     9998   162121                    How to Flirt: A Practical Guide   \n",
       "9998     9999   162121                                           Twilight   \n",
       "9999    10000   162129                       Kids Say the Darndest Things   \n",
       "\n",
       "      Book.Rating  \n",
       "0               5  \n",
       "1               3  \n",
       "2               6  \n",
       "3               8  \n",
       "4               6  \n",
       "...           ...  \n",
       "9995            7  \n",
       "9996            9  \n",
       "9997            7  \n",
       "9998            8  \n",
       "9999            6  \n",
       "\n",
       "[10000 rows x 4 columns]"
      ]
     },
     "execution_count": 15,
     "metadata": {},
     "output_type": "execute_result"
    }
   ],
   "source": [
    "books"
   ]
  },
  {
   "cell_type": "code",
   "execution_count": 26,
   "metadata": {},
   "outputs": [
    {
     "name": "stdout",
     "output_type": "stream",
     "text": [
      "Number of rows:  10000\n",
      "Number of columns:  4\n",
      "Number of rows and columns:  (10000, 4)\n",
      "Number of elements:  40000\n"
     ]
    }
   ],
   "source": [
    "print(\"Number of rows: \", len(books))\n",
    "print(\"Number of columns: \",len(books.columns))\n",
    "print(\"Number of rows and columns: \",books.shape)\n",
    "print(\"Number of elements: \",books.size)"
   ]
  },
  {
   "cell_type": "code",
   "execution_count": 27,
   "metadata": {},
   "outputs": [],
   "source": [
    "from sklearn.feature_extraction.text import TfidfVectorizer\n",
    "tfidf = TfidfVectorizer(stop_words = 'english')"
   ]
  },
  {
   "cell_type": "code",
   "execution_count": 28,
   "metadata": {},
   "outputs": [],
   "source": [
    "books.columns.isnull()\n",
    "books[\"Book_Title\"].isnull()\n",
    "books[\"Book_Title\"] = books[\"Book_Title\"].fillna(\" \")"
   ]
  },
  {
   "cell_type": "code",
   "execution_count": 29,
   "metadata": {},
   "outputs": [
    {
     "name": "stdout",
     "output_type": "stream",
     "text": [
      "Shape of Original DF :  (10000, 4)\n",
      "Shape of TFIDF Matrix:  (10000, 11435)\n"
     ]
    }
   ],
   "source": [
    "tfidf_matrix = tfidf.fit_transform(books.Book_Title)\n",
    "print(\"Shape of Original DF : \",books.shape)\n",
    "print(\"Shape of TFIDF Matrix: \",tfidf_matrix.shape)"
   ]
  },
  {
   "cell_type": "code",
   "execution_count": 30,
   "metadata": {},
   "outputs": [
    {
     "name": "stdout",
     "output_type": "stream",
     "text": [
      "[[1. 0. 0. ... 0. 0. 0.]\n",
      " [0. 1. 0. ... 0. 0. 0.]\n",
      " [0. 0. 1. ... 0. 0. 0.]\n",
      " ...\n",
      " [0. 0. 0. ... 1. 0. 0.]\n",
      " [0. 0. 0. ... 0. 1. 0.]\n",
      " [0. 0. 0. ... 0. 0. 1.]]\n"
     ]
    }
   ],
   "source": [
    "from sklearn.metrics.pairwise import linear_kernel\n",
    "cosine_sim_matrix = linear_kernel(tfidf_matrix,tfidf_matrix) # cos_sim_matrix is obtained by matrix * matrix\n",
    "print(cosine_sim_matrix)"
   ]
  },
  {
   "cell_type": "code",
   "execution_count": 33,
   "metadata": {},
   "outputs": [
    {
     "data": {
      "text/plain": [
       "stardust                                                                                      5\n",
       "fahrenheit 451                                                                                5\n",
       "vanished                                                                                      4\n",
       "charlie and the chocolate factory                                                             4\n",
       "the amber spyglass (his dark materials, book 3)                                               4\n",
       "                                                                                             ..\n",
       "don quijote de la mancha                                                                      1\n",
       "carry on jeeves                                                                               1\n",
       "confessions of saint augustine (image book)                                                   1\n",
       "when someone you love has a mental illness: a handbook for family, friends, and caregivers    1\n",
       "sins of the seventh sister                                                                    1\n",
       "Name: Book_Title, Length: 9638, dtype: int64"
      ]
     },
     "execution_count": 33,
     "metadata": {},
     "output_type": "execute_result"
    }
   ],
   "source": [
    "books['Book_Title']= books['Book_Title'].str.lower()\n",
    "books.Book_Title.value_counts()"
   ]
  },
  {
   "cell_type": "code",
   "execution_count": 34,
   "metadata": {},
   "outputs": [],
   "source": [
    "books.drop_duplicates(subset =\"Book_Title\",keep='first',inplace = True)\n",
    "books.reset_index(drop=True,inplace = True)"
   ]
  },
  {
   "cell_type": "code",
   "execution_count": 35,
   "metadata": {},
   "outputs": [
    {
     "name": "stdout",
     "output_type": "stream",
     "text": [
      "Book_Title\n",
      "classical mythology                                                                                      0\n",
      "clara callan                                                                                             1\n",
      "decision in normandy                                                                                     2\n",
      "flu: the story of the great influenza pandemic of 1918 and the search for the virus that caused it       3\n",
      "the mummies of urumchi                                                                                   4\n",
      "                                                                                                      ... \n",
      "american fried: adventures of a happy eater.                                                          9633\n",
      "cannibal in manhattan                                                                                 9634\n",
      "how to flirt: a practical guide                                                                       9635\n",
      "twilight                                                                                              9636\n",
      "kids say the darndest things                                                                          9637\n",
      "Length: 9638, dtype: int64\n"
     ]
    }
   ],
   "source": [
    "books_index = pd.Series(books.index, index = books['Book_Title'])\n",
    "books_index.sort_values(ascending=True, inplace=True)\n",
    "print(books_index)"
   ]
  },
  {
   "cell_type": "code",
   "execution_count": 47,
   "metadata": {},
   "outputs": [],
   "source": [
    "def get_book_recommendations(BookName,topN):\n",
    "   \n",
    "    #1:get Book index(id) using its title bcz user will enter movie name not index number\n",
    "    books_id = books_index[BookName] \n",
    "    #print(book_id)\n",
    "    \n",
    "    #2: getting the pair wise similarity score of all the movies with that of enterted movie; here enumerate act as counter\n",
    "    cosine_scores = list(enumerate(cosine_sim_matrix[books_id])) \n",
    "    #print(cosine_scores)\n",
    "    \n",
    "    #3: Sorted the obtained score; sort lamda x:x[1] means in dictionary x = [12293(x[0]movie id),0.0(x[1]cosine score)],we shall sort on cosine score\n",
    "    cosine_scores = sorted(cosine_scores, key=lambda x:x[1], reverse = True)\n",
    "    #print(cosine_scores)\n",
    "    \n",
    "    #4: slice the sorted list as per user input (topN); it can top5,top10 or anything\n",
    "    cosine_score_TopN = cosine_scores[0:topN]\n",
    "    print(cosine_score_TopN)\n",
    "\n",
    "    #5:above will give only index number not the movie name. but customer requires movie name\n",
    "    # Getting movie index from the top 10 sorted list X[0]= Movie id and X[1] is similarity score\n",
    "    books_idx = [i[0] for i in cosine_score_TopN]\n",
    "    books_scores = [i[1] for i in cosine_score_TopN]\n",
    "    \n",
    "    #6. Create dataframe to store the similar movie list\n",
    "    books_similar_show = pd.DataFrame(columns=[\"Book_Title\",\"Score\"])\n",
    "    \n",
    "    \n",
    "    #7. Put the topN data into dataframe\n",
    "    books_similar_show[\"Book_Title\"] = books.loc[books_idx,\"Book_Title\"] # using anime index we fetch movie name from anime\n",
    "    books_similar_show[\"Score\"]= books_scores\n",
    "    \n",
    "# #     print(\"Before Reset:\",book_similar_show)\n",
    "    books_similar_show.reset_index(inplace=True) # this will show anime_idx value as seperate columns\n",
    "#     print(\"After Reset:\",book_similar_show)\n",
    "    books_similar_show.drop([\"index\"],axis=1,inplace=True)\n",
    "    \n",
    "    #8.OutPut\n",
    "    return books_similar_show"
   ]
  },
  {
   "cell_type": "code",
   "execution_count": 48,
   "metadata": {},
   "outputs": [
    {
     "name": "stdout",
     "output_type": "stream",
     "text": [
      "[(3, 1.0000000000000002), (7760, 0.23030946840620475), (1341, 0.21897028740099653), (7552, 0.2046583436772717), (2376, 0.16639108548710613)]\n"
     ]
    },
    {
     "data": {
      "text/html": [
       "<div>\n",
       "<style scoped>\n",
       "    .dataframe tbody tr th:only-of-type {\n",
       "        vertical-align: middle;\n",
       "    }\n",
       "\n",
       "    .dataframe tbody tr th {\n",
       "        vertical-align: top;\n",
       "    }\n",
       "\n",
       "    .dataframe thead th {\n",
       "        text-align: right;\n",
       "    }\n",
       "</style>\n",
       "<table border=\"1\" class=\"dataframe\">\n",
       "  <thead>\n",
       "    <tr style=\"text-align: right;\">\n",
       "      <th></th>\n",
       "      <th>Book_Title</th>\n",
       "      <th>Score</th>\n",
       "    </tr>\n",
       "  </thead>\n",
       "  <tbody>\n",
       "    <tr>\n",
       "      <th>0</th>\n",
       "      <td>flu: the story of the great influenza pandemic...</td>\n",
       "      <td>1.000000</td>\n",
       "    </tr>\n",
       "    <tr>\n",
       "      <th>1</th>\n",
       "      <td>el respeto hacia uno mismo</td>\n",
       "      <td>0.230309</td>\n",
       "    </tr>\n",
       "    <tr>\n",
       "      <th>2</th>\n",
       "      <td>men and brethren</td>\n",
       "      <td>0.218970</td>\n",
       "    </tr>\n",
       "    <tr>\n",
       "      <th>3</th>\n",
       "      <td>the golfer's book of wisdom: common sense and ...</td>\n",
       "      <td>0.204658</td>\n",
       "    </tr>\n",
       "    <tr>\n",
       "      <th>4</th>\n",
       "      <td>death of a river guide</td>\n",
       "      <td>0.166391</td>\n",
       "    </tr>\n",
       "  </tbody>\n",
       "</table>\n",
       "</div>"
      ],
      "text/plain": [
       "                                          Book_Title     Score\n",
       "0  flu: the story of the great influenza pandemic...  1.000000\n",
       "1                         el respeto hacia uno mismo  0.230309\n",
       "2                                   men and brethren  0.218970\n",
       "3  the golfer's book of wisdom: common sense and ...  0.204658\n",
       "4                             death of a river guide  0.166391"
      ]
     },
     "execution_count": 48,
     "metadata": {},
     "output_type": "execute_result"
    }
   ],
   "source": [
    "Top_N_Books = get_book_recommendations(3,5)\n",
    "Top_N_Books"
   ]
  },
  {
   "cell_type": "code",
   "execution_count": 49,
   "metadata": {},
   "outputs": [
    {
     "name": "stdout",
     "output_type": "stream",
     "text": [
      "[(3, 1.0000000000000002), (7760, 0.23030946840620475), (1341, 0.21897028740099653), (7552, 0.2046583436772717), (2376, 0.16639108548710613), (4201, 0.1648553751164242), (9471, 0.16072806477544846)]\n"
     ]
    },
    {
     "data": {
      "text/html": [
       "<div>\n",
       "<style scoped>\n",
       "    .dataframe tbody tr th:only-of-type {\n",
       "        vertical-align: middle;\n",
       "    }\n",
       "\n",
       "    .dataframe tbody tr th {\n",
       "        vertical-align: top;\n",
       "    }\n",
       "\n",
       "    .dataframe thead th {\n",
       "        text-align: right;\n",
       "    }\n",
       "</style>\n",
       "<table border=\"1\" class=\"dataframe\">\n",
       "  <thead>\n",
       "    <tr style=\"text-align: right;\">\n",
       "      <th></th>\n",
       "      <th>Book_Title</th>\n",
       "      <th>Score</th>\n",
       "    </tr>\n",
       "  </thead>\n",
       "  <tbody>\n",
       "    <tr>\n",
       "      <th>0</th>\n",
       "      <td>flu: the story of the great influenza pandemic...</td>\n",
       "      <td>1.000000</td>\n",
       "    </tr>\n",
       "    <tr>\n",
       "      <th>1</th>\n",
       "      <td>el respeto hacia uno mismo</td>\n",
       "      <td>0.230309</td>\n",
       "    </tr>\n",
       "    <tr>\n",
       "      <th>2</th>\n",
       "      <td>men and brethren</td>\n",
       "      <td>0.218970</td>\n",
       "    </tr>\n",
       "    <tr>\n",
       "      <th>3</th>\n",
       "      <td>the golfer's book of wisdom: common sense and ...</td>\n",
       "      <td>0.204658</td>\n",
       "    </tr>\n",
       "    <tr>\n",
       "      <th>4</th>\n",
       "      <td>death of a river guide</td>\n",
       "      <td>0.166391</td>\n",
       "    </tr>\n",
       "    <tr>\n",
       "      <th>5</th>\n",
       "      <td>palestina, ocupacio i resistencia: manual prac...</td>\n",
       "      <td>0.164855</td>\n",
       "    </tr>\n",
       "    <tr>\n",
       "      <th>6</th>\n",
       "      <td>babies and other hazards of sex : how to make ...</td>\n",
       "      <td>0.160728</td>\n",
       "    </tr>\n",
       "  </tbody>\n",
       "</table>\n",
       "</div>"
      ],
      "text/plain": [
       "                                          Book_Title     Score\n",
       "0  flu: the story of the great influenza pandemic...  1.000000\n",
       "1                         el respeto hacia uno mismo  0.230309\n",
       "2                                   men and brethren  0.218970\n",
       "3  the golfer's book of wisdom: common sense and ...  0.204658\n",
       "4                             death of a river guide  0.166391\n",
       "5  palestina, ocupacio i resistencia: manual prac...  0.164855\n",
       "6  babies and other hazards of sex : how to make ...  0.160728"
      ]
     },
     "execution_count": 49,
     "metadata": {},
     "output_type": "execute_result"
    }
   ],
   "source": [
    "Top_N_Books = get_book_recommendations(3,7)\n",
    "Top_N_Books"
   ]
  },
  {
   "cell_type": "code",
   "execution_count": null,
   "metadata": {},
   "outputs": [],
   "source": []
  }
 ],
 "metadata": {
  "kernelspec": {
   "display_name": "Python 3",
   "language": "python",
   "name": "python3"
  },
  "language_info": {
   "codemirror_mode": {
    "name": "ipython",
    "version": 3
   },
   "file_extension": ".py",
   "mimetype": "text/x-python",
   "name": "python",
   "nbconvert_exporter": "python",
   "pygments_lexer": "ipython3",
   "version": "3.8.5"
  }
 },
 "nbformat": 4,
 "nbformat_minor": 4
}
